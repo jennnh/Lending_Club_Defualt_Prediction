{
 "cells": [
  {
   "cell_type": "code",
   "execution_count": 2,
   "metadata": {},
   "outputs": [],
   "source": [
    "import re\n",
    "import os\n",
    "import pandas as pd\n",
    "import numpy as np\n",
    "import time\n",
    "\n",
    "#ML model\n",
    "from sklearn.ensemble import RandomForestClassifier\n",
    "from sklearn.model_selection import train_test_split\n",
    "from sklearn.metrics import classification_report, confusion_matrix\n",
    "from sklearn.utils import resample\n",
    "import sklearn.metrics as metrics\n",
    "from yellowbrick.classifier import ROCAUC\n",
    "from yellowbrick.classifier import ConfusionMatrix\n",
    "# sns.set()\n",
    "\n",
    "# plotting\n",
    "import seaborn as sns\n",
    "import matplotlib.pyplot as plt\n",
    "%matplotlib inline "
   ]
  },
  {
   "cell_type": "code",
   "execution_count": 3,
   "metadata": {},
   "outputs": [
    {
     "name": "stderr",
     "output_type": "stream",
     "text": [
      "/Users/crystal/opt/anaconda3/lib/python3.7/site-packages/IPython/core/interactiveshell.py:3058: DtypeWarning: Columns (19,47,55,112,123,124,125,128,129,130,133,139,140,141) have mixed types. Specify dtype option on import or set low_memory=False.\n",
      "  interactivity=interactivity, compiler=compiler, result=result)\n"
     ]
    },
    {
     "data": {
      "text/plain": [
       "(2260668, 145)"
      ]
     },
     "execution_count": 3,
     "metadata": {},
     "output_type": "execute_result"
    }
   ],
   "source": [
    "df = pd.read_csv('loan.csv', encoding='ISO-8859–1')\n",
    "df.shape"
   ]
  },
  {
   "cell_type": "code",
   "execution_count": 4,
   "metadata": {},
   "outputs": [
    {
     "name": "stdout",
     "output_type": "stream",
     "text": [
      "Your selected dataframe has 145 columns.\n",
      "There are 113 columns that have missing values.\n"
     ]
    },
    {
     "data": {
      "text/html": [
       "<div>\n",
       "<style scoped>\n",
       "    .dataframe tbody tr th:only-of-type {\n",
       "        vertical-align: middle;\n",
       "    }\n",
       "\n",
       "    .dataframe tbody tr th {\n",
       "        vertical-align: top;\n",
       "    }\n",
       "\n",
       "    .dataframe thead th {\n",
       "        text-align: right;\n",
       "    }\n",
       "</style>\n",
       "<table border=\"1\" class=\"dataframe\">\n",
       "  <thead>\n",
       "    <tr style=\"text-align: right;\">\n",
       "      <th></th>\n",
       "      <th>Missing Values</th>\n",
       "      <th>% of Total Values</th>\n",
       "    </tr>\n",
       "  </thead>\n",
       "  <tbody>\n",
       "    <tr>\n",
       "      <td>id</td>\n",
       "      <td>2260668</td>\n",
       "      <td>100.0</td>\n",
       "    </tr>\n",
       "    <tr>\n",
       "      <td>url</td>\n",
       "      <td>2260668</td>\n",
       "      <td>100.0</td>\n",
       "    </tr>\n",
       "    <tr>\n",
       "      <td>member_id</td>\n",
       "      <td>2260668</td>\n",
       "      <td>100.0</td>\n",
       "    </tr>\n",
       "    <tr>\n",
       "      <td>orig_projected_additional_accrued_interest</td>\n",
       "      <td>2252242</td>\n",
       "      <td>99.6</td>\n",
       "    </tr>\n",
       "    <tr>\n",
       "      <td>hardship_length</td>\n",
       "      <td>2250055</td>\n",
       "      <td>99.5</td>\n",
       "    </tr>\n",
       "    <tr>\n",
       "      <td>hardship_reason</td>\n",
       "      <td>2250055</td>\n",
       "      <td>99.5</td>\n",
       "    </tr>\n",
       "    <tr>\n",
       "      <td>hardship_status</td>\n",
       "      <td>2250055</td>\n",
       "      <td>99.5</td>\n",
       "    </tr>\n",
       "    <tr>\n",
       "      <td>deferral_term</td>\n",
       "      <td>2250055</td>\n",
       "      <td>99.5</td>\n",
       "    </tr>\n",
       "    <tr>\n",
       "      <td>hardship_amount</td>\n",
       "      <td>2250055</td>\n",
       "      <td>99.5</td>\n",
       "    </tr>\n",
       "    <tr>\n",
       "      <td>hardship_start_date</td>\n",
       "      <td>2250055</td>\n",
       "      <td>99.5</td>\n",
       "    </tr>\n",
       "    <tr>\n",
       "      <td>hardship_end_date</td>\n",
       "      <td>2250055</td>\n",
       "      <td>99.5</td>\n",
       "    </tr>\n",
       "    <tr>\n",
       "      <td>payment_plan_start_date</td>\n",
       "      <td>2250055</td>\n",
       "      <td>99.5</td>\n",
       "    </tr>\n",
       "    <tr>\n",
       "      <td>hardship_loan_status</td>\n",
       "      <td>2250055</td>\n",
       "      <td>99.5</td>\n",
       "    </tr>\n",
       "    <tr>\n",
       "      <td>hardship_dpd</td>\n",
       "      <td>2250055</td>\n",
       "      <td>99.5</td>\n",
       "    </tr>\n",
       "    <tr>\n",
       "      <td>hardship_payoff_balance_amount</td>\n",
       "      <td>2250055</td>\n",
       "      <td>99.5</td>\n",
       "    </tr>\n",
       "    <tr>\n",
       "      <td>hardship_last_payment_amount</td>\n",
       "      <td>2250055</td>\n",
       "      <td>99.5</td>\n",
       "    </tr>\n",
       "    <tr>\n",
       "      <td>hardship_type</td>\n",
       "      <td>2250055</td>\n",
       "      <td>99.5</td>\n",
       "    </tr>\n",
       "    <tr>\n",
       "      <td>debt_settlement_flag_date</td>\n",
       "      <td>2227612</td>\n",
       "      <td>98.5</td>\n",
       "    </tr>\n",
       "    <tr>\n",
       "      <td>settlement_status</td>\n",
       "      <td>2227612</td>\n",
       "      <td>98.5</td>\n",
       "    </tr>\n",
       "    <tr>\n",
       "      <td>settlement_date</td>\n",
       "      <td>2227612</td>\n",
       "      <td>98.5</td>\n",
       "    </tr>\n",
       "    <tr>\n",
       "      <td>settlement_amount</td>\n",
       "      <td>2227612</td>\n",
       "      <td>98.5</td>\n",
       "    </tr>\n",
       "    <tr>\n",
       "      <td>settlement_percentage</td>\n",
       "      <td>2227612</td>\n",
       "      <td>98.5</td>\n",
       "    </tr>\n",
       "    <tr>\n",
       "      <td>settlement_term</td>\n",
       "      <td>2227612</td>\n",
       "      <td>98.5</td>\n",
       "    </tr>\n",
       "    <tr>\n",
       "      <td>sec_app_mths_since_last_major_derog</td>\n",
       "      <td>2224726</td>\n",
       "      <td>98.4</td>\n",
       "    </tr>\n",
       "    <tr>\n",
       "      <td>sec_app_revol_util</td>\n",
       "      <td>2154484</td>\n",
       "      <td>95.3</td>\n",
       "    </tr>\n",
       "    <tr>\n",
       "      <td>revol_bal_joint</td>\n",
       "      <td>2152648</td>\n",
       "      <td>95.2</td>\n",
       "    </tr>\n",
       "    <tr>\n",
       "      <td>sec_app_open_acc</td>\n",
       "      <td>2152647</td>\n",
       "      <td>95.2</td>\n",
       "    </tr>\n",
       "    <tr>\n",
       "      <td>sec_app_chargeoff_within_12_mths</td>\n",
       "      <td>2152647</td>\n",
       "      <td>95.2</td>\n",
       "    </tr>\n",
       "    <tr>\n",
       "      <td>sec_app_open_act_il</td>\n",
       "      <td>2152647</td>\n",
       "      <td>95.2</td>\n",
       "    </tr>\n",
       "    <tr>\n",
       "      <td>sec_app_collections_12_mths_ex_med</td>\n",
       "      <td>2152647</td>\n",
       "      <td>95.2</td>\n",
       "    </tr>\n",
       "    <tr>\n",
       "      <td>sec_app_mort_acc</td>\n",
       "      <td>2152647</td>\n",
       "      <td>95.2</td>\n",
       "    </tr>\n",
       "    <tr>\n",
       "      <td>sec_app_inq_last_6mths</td>\n",
       "      <td>2152647</td>\n",
       "      <td>95.2</td>\n",
       "    </tr>\n",
       "    <tr>\n",
       "      <td>sec_app_earliest_cr_line</td>\n",
       "      <td>2152647</td>\n",
       "      <td>95.2</td>\n",
       "    </tr>\n",
       "    <tr>\n",
       "      <td>sec_app_num_rev_accts</td>\n",
       "      <td>2152647</td>\n",
       "      <td>95.2</td>\n",
       "    </tr>\n",
       "    <tr>\n",
       "      <td>verification_status_joint</td>\n",
       "      <td>2144938</td>\n",
       "      <td>94.9</td>\n",
       "    </tr>\n",
       "    <tr>\n",
       "      <td>dti_joint</td>\n",
       "      <td>2139962</td>\n",
       "      <td>94.7</td>\n",
       "    </tr>\n",
       "    <tr>\n",
       "      <td>annual_inc_joint</td>\n",
       "      <td>2139958</td>\n",
       "      <td>94.7</td>\n",
       "    </tr>\n",
       "    <tr>\n",
       "      <td>desc</td>\n",
       "      <td>2134601</td>\n",
       "      <td>94.4</td>\n",
       "    </tr>\n",
       "    <tr>\n",
       "      <td>mths_since_last_record</td>\n",
       "      <td>1901512</td>\n",
       "      <td>84.1</td>\n",
       "    </tr>\n",
       "    <tr>\n",
       "      <td>mths_since_recent_bc_dlq</td>\n",
       "      <td>1740967</td>\n",
       "      <td>77.0</td>\n",
       "    </tr>\n",
       "    <tr>\n",
       "      <td>mths_since_last_major_derog</td>\n",
       "      <td>1679893</td>\n",
       "      <td>74.3</td>\n",
       "    </tr>\n",
       "    <tr>\n",
       "      <td>mths_since_recent_revol_delinq</td>\n",
       "      <td>1520309</td>\n",
       "      <td>67.3</td>\n",
       "    </tr>\n",
       "    <tr>\n",
       "      <td>next_pymnt_d</td>\n",
       "      <td>1303607</td>\n",
       "      <td>57.7</td>\n",
       "    </tr>\n",
       "    <tr>\n",
       "      <td>mths_since_last_delinq</td>\n",
       "      <td>1158502</td>\n",
       "      <td>51.2</td>\n",
       "    </tr>\n",
       "    <tr>\n",
       "      <td>il_util</td>\n",
       "      <td>1068850</td>\n",
       "      <td>47.3</td>\n",
       "    </tr>\n",
       "    <tr>\n",
       "      <td>mths_since_rcnt_il</td>\n",
       "      <td>909924</td>\n",
       "      <td>40.3</td>\n",
       "    </tr>\n",
       "    <tr>\n",
       "      <td>all_util</td>\n",
       "      <td>866348</td>\n",
       "      <td>38.3</td>\n",
       "    </tr>\n",
       "    <tr>\n",
       "      <td>inq_last_12m</td>\n",
       "      <td>866130</td>\n",
       "      <td>38.3</td>\n",
       "    </tr>\n",
       "    <tr>\n",
       "      <td>total_cu_tl</td>\n",
       "      <td>866130</td>\n",
       "      <td>38.3</td>\n",
       "    </tr>\n",
       "    <tr>\n",
       "      <td>open_acc_6m</td>\n",
       "      <td>866130</td>\n",
       "      <td>38.3</td>\n",
       "    </tr>\n",
       "  </tbody>\n",
       "</table>\n",
       "</div>"
      ],
      "text/plain": [
       "                                            Missing Values  % of Total Values\n",
       "id                                                 2260668              100.0\n",
       "url                                                2260668              100.0\n",
       "member_id                                          2260668              100.0\n",
       "orig_projected_additional_accrued_interest         2252242               99.6\n",
       "hardship_length                                    2250055               99.5\n",
       "hardship_reason                                    2250055               99.5\n",
       "hardship_status                                    2250055               99.5\n",
       "deferral_term                                      2250055               99.5\n",
       "hardship_amount                                    2250055               99.5\n",
       "hardship_start_date                                2250055               99.5\n",
       "hardship_end_date                                  2250055               99.5\n",
       "payment_plan_start_date                            2250055               99.5\n",
       "hardship_loan_status                               2250055               99.5\n",
       "hardship_dpd                                       2250055               99.5\n",
       "hardship_payoff_balance_amount                     2250055               99.5\n",
       "hardship_last_payment_amount                       2250055               99.5\n",
       "hardship_type                                      2250055               99.5\n",
       "debt_settlement_flag_date                          2227612               98.5\n",
       "settlement_status                                  2227612               98.5\n",
       "settlement_date                                    2227612               98.5\n",
       "settlement_amount                                  2227612               98.5\n",
       "settlement_percentage                              2227612               98.5\n",
       "settlement_term                                    2227612               98.5\n",
       "sec_app_mths_since_last_major_derog                2224726               98.4\n",
       "sec_app_revol_util                                 2154484               95.3\n",
       "revol_bal_joint                                    2152648               95.2\n",
       "sec_app_open_acc                                   2152647               95.2\n",
       "sec_app_chargeoff_within_12_mths                   2152647               95.2\n",
       "sec_app_open_act_il                                2152647               95.2\n",
       "sec_app_collections_12_mths_ex_med                 2152647               95.2\n",
       "sec_app_mort_acc                                   2152647               95.2\n",
       "sec_app_inq_last_6mths                             2152647               95.2\n",
       "sec_app_earliest_cr_line                           2152647               95.2\n",
       "sec_app_num_rev_accts                              2152647               95.2\n",
       "verification_status_joint                          2144938               94.9\n",
       "dti_joint                                          2139962               94.7\n",
       "annual_inc_joint                                   2139958               94.7\n",
       "desc                                               2134601               94.4\n",
       "mths_since_last_record                             1901512               84.1\n",
       "mths_since_recent_bc_dlq                           1740967               77.0\n",
       "mths_since_last_major_derog                        1679893               74.3\n",
       "mths_since_recent_revol_delinq                     1520309               67.3\n",
       "next_pymnt_d                                       1303607               57.7\n",
       "mths_since_last_delinq                             1158502               51.2\n",
       "il_util                                            1068850               47.3\n",
       "mths_since_rcnt_il                                  909924               40.3\n",
       "all_util                                            866348               38.3\n",
       "inq_last_12m                                        866130               38.3\n",
       "total_cu_tl                                         866130               38.3\n",
       "open_acc_6m                                         866130               38.3"
      ]
     },
     "execution_count": 4,
     "metadata": {},
     "output_type": "execute_result"
    }
   ],
   "source": [
    "# get information about the number of missing values and their percentage\n",
    "def missing_values_table(df):\n",
    "        # Total missing values\n",
    "        mis_val = df.isnull().sum()\n",
    "        \n",
    "        # Percentage of missing values\n",
    "        mis_val_percent = 100 * df.isnull().sum() / len(df)\n",
    "        \n",
    "        # Make a table with the results\n",
    "        mis_val_table = pd.concat([mis_val, mis_val_percent], axis=1)\n",
    "        \n",
    "        # Rename the columns\n",
    "        mis_val_table_ren_columns = mis_val_table.rename(\n",
    "        columns = {0 : 'Missing Values', 1 : '% of Total Values'})\n",
    "        \n",
    "        # Sort the table by percentage of missing descending\n",
    "        mis_val_table_ren_columns = mis_val_table_ren_columns[\n",
    "            mis_val_table_ren_columns.iloc[:,1] != 0].sort_values(\n",
    "        '% of Total Values', ascending=False).round(1)\n",
    "        \n",
    "        # Print some summary information\n",
    "        print (\"Your selected dataframe has \" + str(df.shape[1]) + \" columns.\\n\"      \n",
    "            \"There are \" + str(mis_val_table_ren_columns.shape[0]) +\n",
    "              \" columns that have missing values.\")\n",
    "        \n",
    "        # Return the dataframe with missing information\n",
    "        return mis_val_table_ren_columns\n",
    "    \n",
    "missing_values_table(df).head(50)"
   ]
  },
  {
   "cell_type": "code",
   "execution_count": 5,
   "metadata": {},
   "outputs": [],
   "source": [
    "# delete columns with more than 35% NA\n",
    "df.dropna(thresh=df.shape[0]*0.65,how='all',axis=1,inplace=True)\n",
    "# delete columns with no value to the analysis\n",
    "df.drop(['funded_amnt','funded_amnt_inv','policy_code'],axis = 1, inplace = True)"
   ]
  },
  {
   "cell_type": "code",
   "execution_count": 6,
   "metadata": {},
   "outputs": [],
   "source": [
    "# separate year and month\n",
    "df['issue_d'] = pd.to_datetime(df['issue_d'])\n",
    "df['year'] = pd.DatetimeIndex(df['issue_d']).year\n",
    "df['month'] = pd.DatetimeIndex(df['issue_d']).month\n",
    "df.drop(['issue_d'],axis =1, inplace =True)"
   ]
  },
  {
   "cell_type": "code",
   "execution_count": 7,
   "metadata": {},
   "outputs": [
    {
     "name": "stdout",
     "output_type": "stream",
     "text": [
      "(2260668, 85)\n"
     ]
    },
    {
     "data": {
      "text/plain": [
       "Index(['loan_amnt', 'term', 'int_rate', 'installment', 'grade', 'sub_grade',\n",
       "       'emp_title', 'emp_length', 'home_ownership', 'annual_inc',\n",
       "       'verification_status', 'loan_status', 'pymnt_plan', 'purpose', 'title',\n",
       "       'zip_code', 'addr_state', 'dti', 'delinq_2yrs', 'earliest_cr_line',\n",
       "       'inq_last_6mths', 'open_acc', 'pub_rec', 'revol_bal', 'revol_util',\n",
       "       'total_acc', 'initial_list_status', 'out_prncp', 'out_prncp_inv',\n",
       "       'total_pymnt', 'total_pymnt_inv', 'total_rec_prncp', 'total_rec_int',\n",
       "       'total_rec_late_fee', 'recoveries', 'collection_recovery_fee',\n",
       "       'last_pymnt_d', 'last_pymnt_amnt', 'last_credit_pull_d',\n",
       "       'collections_12_mths_ex_med', 'application_type', 'acc_now_delinq',\n",
       "       'tot_coll_amt', 'tot_cur_bal', 'total_rev_hi_lim',\n",
       "       'acc_open_past_24mths', 'avg_cur_bal', 'bc_open_to_buy', 'bc_util',\n",
       "       'chargeoff_within_12_mths', 'delinq_amnt', 'mo_sin_old_il_acct',\n",
       "       'mo_sin_old_rev_tl_op', 'mo_sin_rcnt_rev_tl_op', 'mo_sin_rcnt_tl',\n",
       "       'mort_acc', 'mths_since_recent_bc', 'mths_since_recent_inq',\n",
       "       'num_accts_ever_120_pd', 'num_actv_bc_tl', 'num_actv_rev_tl',\n",
       "       'num_bc_sats', 'num_bc_tl', 'num_il_tl', 'num_op_rev_tl',\n",
       "       'num_rev_accts', 'num_rev_tl_bal_gt_0', 'num_sats', 'num_tl_120dpd_2m',\n",
       "       'num_tl_30dpd', 'num_tl_90g_dpd_24m', 'num_tl_op_past_12m',\n",
       "       'pct_tl_nvr_dlq', 'percent_bc_gt_75', 'pub_rec_bankruptcies',\n",
       "       'tax_liens', 'tot_hi_cred_lim', 'total_bal_ex_mort', 'total_bc_limit',\n",
       "       'total_il_high_credit_limit', 'hardship_flag', 'disbursement_method',\n",
       "       'debt_settlement_flag', 'year', 'month'],\n",
       "      dtype='object')"
      ]
     },
     "execution_count": 7,
     "metadata": {},
     "output_type": "execute_result"
    }
   ],
   "source": [
    "print(df.shape)\n",
    "df.columns"
   ]
  },
  {
   "cell_type": "code",
   "execution_count": 8,
   "metadata": {},
   "outputs": [
    {
     "data": {
      "text/html": [
       "<div>\n",
       "<style scoped>\n",
       "    .dataframe tbody tr th:only-of-type {\n",
       "        vertical-align: middle;\n",
       "    }\n",
       "\n",
       "    .dataframe tbody tr th {\n",
       "        vertical-align: top;\n",
       "    }\n",
       "\n",
       "    .dataframe thead th {\n",
       "        text-align: right;\n",
       "    }\n",
       "</style>\n",
       "<table border=\"1\" class=\"dataframe\">\n",
       "  <thead>\n",
       "    <tr style=\"text-align: right;\">\n",
       "      <th></th>\n",
       "      <th>loan_amnt</th>\n",
       "      <th>term</th>\n",
       "      <th>int_rate</th>\n",
       "      <th>installment</th>\n",
       "      <th>grade</th>\n",
       "      <th>sub_grade</th>\n",
       "      <th>emp_title</th>\n",
       "      <th>emp_length</th>\n",
       "      <th>home_ownership</th>\n",
       "      <th>annual_inc</th>\n",
       "      <th>...</th>\n",
       "      <th>tax_liens</th>\n",
       "      <th>tot_hi_cred_lim</th>\n",
       "      <th>total_bal_ex_mort</th>\n",
       "      <th>total_bc_limit</th>\n",
       "      <th>total_il_high_credit_limit</th>\n",
       "      <th>hardship_flag</th>\n",
       "      <th>disbursement_method</th>\n",
       "      <th>debt_settlement_flag</th>\n",
       "      <th>year</th>\n",
       "      <th>month</th>\n",
       "    </tr>\n",
       "  </thead>\n",
       "  <tbody>\n",
       "    <tr>\n",
       "      <td>0</td>\n",
       "      <td>2500</td>\n",
       "      <td>36 months</td>\n",
       "      <td>13.56</td>\n",
       "      <td>84.92</td>\n",
       "      <td>C</td>\n",
       "      <td>C1</td>\n",
       "      <td>Chef</td>\n",
       "      <td>10+ years</td>\n",
       "      <td>RENT</td>\n",
       "      <td>55000.0</td>\n",
       "      <td>...</td>\n",
       "      <td>0.0</td>\n",
       "      <td>60124.0</td>\n",
       "      <td>16901.0</td>\n",
       "      <td>36500.0</td>\n",
       "      <td>18124.0</td>\n",
       "      <td>N</td>\n",
       "      <td>Cash</td>\n",
       "      <td>N</td>\n",
       "      <td>2018</td>\n",
       "      <td>12</td>\n",
       "    </tr>\n",
       "    <tr>\n",
       "      <td>1</td>\n",
       "      <td>30000</td>\n",
       "      <td>60 months</td>\n",
       "      <td>18.94</td>\n",
       "      <td>777.23</td>\n",
       "      <td>D</td>\n",
       "      <td>D2</td>\n",
       "      <td>Postmaster</td>\n",
       "      <td>10+ years</td>\n",
       "      <td>MORTGAGE</td>\n",
       "      <td>90000.0</td>\n",
       "      <td>...</td>\n",
       "      <td>0.0</td>\n",
       "      <td>372872.0</td>\n",
       "      <td>99468.0</td>\n",
       "      <td>15000.0</td>\n",
       "      <td>94072.0</td>\n",
       "      <td>N</td>\n",
       "      <td>Cash</td>\n",
       "      <td>N</td>\n",
       "      <td>2018</td>\n",
       "      <td>12</td>\n",
       "    </tr>\n",
       "    <tr>\n",
       "      <td>2</td>\n",
       "      <td>5000</td>\n",
       "      <td>36 months</td>\n",
       "      <td>17.97</td>\n",
       "      <td>180.69</td>\n",
       "      <td>D</td>\n",
       "      <td>D1</td>\n",
       "      <td>Administrative</td>\n",
       "      <td>6 years</td>\n",
       "      <td>MORTGAGE</td>\n",
       "      <td>59280.0</td>\n",
       "      <td>...</td>\n",
       "      <td>0.0</td>\n",
       "      <td>136927.0</td>\n",
       "      <td>11749.0</td>\n",
       "      <td>13800.0</td>\n",
       "      <td>10000.0</td>\n",
       "      <td>N</td>\n",
       "      <td>Cash</td>\n",
       "      <td>N</td>\n",
       "      <td>2018</td>\n",
       "      <td>12</td>\n",
       "    </tr>\n",
       "    <tr>\n",
       "      <td>3</td>\n",
       "      <td>4000</td>\n",
       "      <td>36 months</td>\n",
       "      <td>18.94</td>\n",
       "      <td>146.51</td>\n",
       "      <td>D</td>\n",
       "      <td>D2</td>\n",
       "      <td>IT Supervisor</td>\n",
       "      <td>10+ years</td>\n",
       "      <td>MORTGAGE</td>\n",
       "      <td>92000.0</td>\n",
       "      <td>...</td>\n",
       "      <td>0.0</td>\n",
       "      <td>385183.0</td>\n",
       "      <td>36151.0</td>\n",
       "      <td>5000.0</td>\n",
       "      <td>44984.0</td>\n",
       "      <td>N</td>\n",
       "      <td>Cash</td>\n",
       "      <td>N</td>\n",
       "      <td>2018</td>\n",
       "      <td>12</td>\n",
       "    </tr>\n",
       "    <tr>\n",
       "      <td>4</td>\n",
       "      <td>30000</td>\n",
       "      <td>60 months</td>\n",
       "      <td>16.14</td>\n",
       "      <td>731.78</td>\n",
       "      <td>C</td>\n",
       "      <td>C4</td>\n",
       "      <td>Mechanic</td>\n",
       "      <td>10+ years</td>\n",
       "      <td>MORTGAGE</td>\n",
       "      <td>57250.0</td>\n",
       "      <td>...</td>\n",
       "      <td>0.0</td>\n",
       "      <td>157548.0</td>\n",
       "      <td>29674.0</td>\n",
       "      <td>9300.0</td>\n",
       "      <td>32332.0</td>\n",
       "      <td>N</td>\n",
       "      <td>Cash</td>\n",
       "      <td>N</td>\n",
       "      <td>2018</td>\n",
       "      <td>12</td>\n",
       "    </tr>\n",
       "  </tbody>\n",
       "</table>\n",
       "<p>5 rows × 85 columns</p>\n",
       "</div>"
      ],
      "text/plain": [
       "   loan_amnt        term  int_rate  installment grade sub_grade  \\\n",
       "0       2500   36 months     13.56        84.92     C        C1   \n",
       "1      30000   60 months     18.94       777.23     D        D2   \n",
       "2       5000   36 months     17.97       180.69     D        D1   \n",
       "3       4000   36 months     18.94       146.51     D        D2   \n",
       "4      30000   60 months     16.14       731.78     C        C4   \n",
       "\n",
       "        emp_title emp_length home_ownership  annual_inc  ... tax_liens  \\\n",
       "0            Chef  10+ years           RENT     55000.0  ...       0.0   \n",
       "1     Postmaster   10+ years       MORTGAGE     90000.0  ...       0.0   \n",
       "2  Administrative    6 years       MORTGAGE     59280.0  ...       0.0   \n",
       "3   IT Supervisor  10+ years       MORTGAGE     92000.0  ...       0.0   \n",
       "4        Mechanic  10+ years       MORTGAGE     57250.0  ...       0.0   \n",
       "\n",
       "  tot_hi_cred_lim total_bal_ex_mort total_bc_limit total_il_high_credit_limit  \\\n",
       "0         60124.0           16901.0        36500.0                    18124.0   \n",
       "1        372872.0           99468.0        15000.0                    94072.0   \n",
       "2        136927.0           11749.0        13800.0                    10000.0   \n",
       "3        385183.0           36151.0         5000.0                    44984.0   \n",
       "4        157548.0           29674.0         9300.0                    32332.0   \n",
       "\n",
       "  hardship_flag disbursement_method  debt_settlement_flag  year month  \n",
       "0             N                Cash                     N  2018    12  \n",
       "1             N                Cash                     N  2018    12  \n",
       "2             N                Cash                     N  2018    12  \n",
       "3             N                Cash                     N  2018    12  \n",
       "4             N                Cash                     N  2018    12  \n",
       "\n",
       "[5 rows x 85 columns]"
      ]
     },
     "execution_count": 8,
     "metadata": {},
     "output_type": "execute_result"
    }
   ],
   "source": [
    "df.head()"
   ]
  },
  {
   "cell_type": "markdown",
   "metadata": {},
   "source": [
    "# EDA"
   ]
  },
  {
   "cell_type": "code",
   "execution_count": 9,
   "metadata": {},
   "outputs": [
    {
     "data": {
      "image/png": "[encoded data removed]",
      "text/plain": [
       "<Figure size 576x360 with 1 Axes>"
      ]
     },
     "metadata": {
      "needs_background": "light"
     },
     "output_type": "display_data"
    }
   ],
   "source": [
    "plt.figure(figsize=(8, 5))\n",
    "ax = df['loan_status'].value_counts().plot(kind='barh')\n",
    "plt.title('Distribution of loan status',fontsize=20)\n",
    "\n",
    "total = len(df['loan_status'])\n",
    "for p in ax.patches:\n",
    "        percentage = '{:.1f}%'.format(100 * p.get_width()/total)\n",
    "        x = p.get_x() + p.get_width()+100\n",
    "        y = p.get_y()\n",
    "        ax.annotate(percentage, (x, y))"
   ]
  },
  {
   "cell_type": "code",
   "execution_count": 10,
   "metadata": {},
   "outputs": [
    {
     "data": {
      "text/plain": [
       "<matplotlib.lines.Line2D at 0x12bb4b0d0>"
      ]
     },
     "execution_count": 10,
     "metadata": {},
     "output_type": "execute_result"
    },
    {
     "data": {
      "image/png": "[encoded data removed]",
      "text/plain": [
       "<Figure size 648x360 with 1 Axes>"
      ]
     },
     "metadata": {
      "needs_background": "light"
     },
     "output_type": "display_data"
    }
   ],
   "source": [
    "plt.figure(figsize=(9, 5))\n",
    "sns.distplot(df['loan_amnt'],kde = False)\n",
    "plt.axvline(df['loan_amnt'].mean(), 0,1,color = 'blue')"
   ]
  },
  {
   "cell_type": "code",
   "execution_count": 11,
   "metadata": {},
   "outputs": [
    {
     "data": {
      "text/plain": [
       "<matplotlib.axes._subplots.AxesSubplot at 0x12b7e1590>"
      ]
     },
     "execution_count": 11,
     "metadata": {},
     "output_type": "execute_result"
    },
    {
     "data": {
      "image/png": "[encoded data removed]",
      "text/plain": [
       "<Figure size 648x288 with 1 Axes>"
      ]
     },
     "metadata": {
      "needs_background": "light"
     },
     "output_type": "display_data"
    }
   ],
   "source": [
    "plt.figure(figsize=(9, 4))\n",
    "sns.boxplot(x = 'year',y = 'loan_amnt',data =df)"
   ]
  },
  {
   "cell_type": "code",
   "execution_count": 12,
   "metadata": {},
   "outputs": [
    {
     "data": {
      "text/plain": [
       "<matplotlib.legend.Legend at 0x12ab9e550>"
      ]
     },
     "execution_count": 12,
     "metadata": {},
     "output_type": "execute_result"
    },
    {
     "data": {
      "image/png": "[encoded data removed]",
      "text/plain": [
       "<Figure size 864x432 with 1 Axes>"
      ]
     },
     "metadata": {
      "needs_background": "light"
     },
     "output_type": "display_data"
    }
   ],
   "source": [
    "df_top_states = df[df['addr_state'].isin(df['addr_state'].value_counts().head(20).index)]\n",
    "state_pivot = pd.pivot_table(df_top_states, index=['addr_state'],\n",
    "                         columns=['year'],\n",
    "                         values=['loan_amnt'], \n",
    "                         aggfunc = lambda x: len(x), \n",
    "                         fill_value=0)\n",
    "fig= plt.figure(figsize = (12,6))\n",
    "year_list = sorted(df_top_states['year'].unique())\n",
    "plt.stackplot(year_list,state_pivot.values, labels = state_pivot.index)\n",
    "plt.legend(loc='upper left')"
   ]
  },
  {
   "cell_type": "code",
   "execution_count": null,
   "metadata": {},
   "outputs": [],
   "source": []
  },
  {
   "cell_type": "code",
   "execution_count": 13,
   "metadata": {},
   "outputs": [
    {
     "name": "stdout",
     "output_type": "stream",
     "text": [
      "<class 'pandas.core.frame.DataFrame'>\n",
      "Int64Index: 1303638 entries, 100 to 2260664\n",
      "Data columns (total 14 columns):\n",
      "loan_status       1303638 non-null object\n",
      "loan_amnt         1303638 non-null int64\n",
      "term              1303638 non-null object\n",
      "grade             1303638 non-null object\n",
      "emp_length        1228181 non-null object\n",
      "home_ownership    1303638 non-null object\n",
      "annual_inc        1303638 non-null float64\n",
      "dti               1303326 non-null float64\n",
      "open_acc          1303638 non-null float64\n",
      "revol_bal         1303638 non-null int64\n",
      "revol_util        1302828 non-null float64\n",
      "total_acc         1303638 non-null float64\n",
      "int_rate          1303638 non-null float64\n",
      "acc_now_delinq    1303638 non-null float64\n",
      "dtypes: float64(7), int64(2), object(5)\n",
      "memory usage: 149.2+ MB\n"
     ]
    }
   ],
   "source": [
    "#df2, select columns according to importance\n",
    "df2=df[['loan_status','loan_amnt','term','grade','emp_length',\n",
    "'home_ownership','annual_inc','dti','open_acc','revol_bal',\n",
    "'revol_util','total_acc','int_rate','acc_now_delinq']]\n",
    "#df2, select rows (charged off, defualt, fully paid\n",
    "df2 =df2[df2['loan_status'].isin(['Fully Paid', 'Charged Off','Default'])]\n",
    "df2.info(verbose=True, null_counts=True)"
   ]
  },
  {
   "cell_type": "code",
   "execution_count": 14,
   "metadata": {},
   "outputs": [
    {
     "data": {
      "text/html": [
       "<div>\n",
       "<style scoped>\n",
       "    .dataframe tbody tr th:only-of-type {\n",
       "        vertical-align: middle;\n",
       "    }\n",
       "\n",
       "    .dataframe tbody tr th {\n",
       "        vertical-align: top;\n",
       "    }\n",
       "\n",
       "    .dataframe thead th {\n",
       "        text-align: right;\n",
       "    }\n",
       "</style>\n",
       "<table border=\"1\" class=\"dataframe\">\n",
       "  <thead>\n",
       "    <tr style=\"text-align: right;\">\n",
       "      <th></th>\n",
       "      <th>loan_amnt</th>\n",
       "      <th>annual_inc</th>\n",
       "      <th>dti</th>\n",
       "      <th>open_acc</th>\n",
       "      <th>revol_bal</th>\n",
       "      <th>revol_util</th>\n",
       "      <th>total_acc</th>\n",
       "      <th>int_rate</th>\n",
       "      <th>acc_now_delinq</th>\n",
       "    </tr>\n",
       "  </thead>\n",
       "  <tbody>\n",
       "    <tr>\n",
       "      <td>loan_amnt</td>\n",
       "      <td>1.000000</td>\n",
       "      <td>0.310232</td>\n",
       "      <td>0.032081</td>\n",
       "      <td>0.186320</td>\n",
       "      <td>0.318613</td>\n",
       "      <td>0.108459</td>\n",
       "      <td>0.208991</td>\n",
       "      <td>0.143815</td>\n",
       "      <td>0.001684</td>\n",
       "    </tr>\n",
       "    <tr>\n",
       "      <td>annual_inc</td>\n",
       "      <td>0.310232</td>\n",
       "      <td>1.000000</td>\n",
       "      <td>-0.141383</td>\n",
       "      <td>0.133672</td>\n",
       "      <td>0.284175</td>\n",
       "      <td>0.034614</td>\n",
       "      <td>0.174806</td>\n",
       "      <td>-0.071268</td>\n",
       "      <td>0.013480</td>\n",
       "    </tr>\n",
       "    <tr>\n",
       "      <td>dti</td>\n",
       "      <td>0.032081</td>\n",
       "      <td>-0.141383</td>\n",
       "      <td>1.000000</td>\n",
       "      <td>0.229020</td>\n",
       "      <td>0.111136</td>\n",
       "      <td>0.143313</td>\n",
       "      <td>0.176408</td>\n",
       "      <td>0.148392</td>\n",
       "      <td>0.003235</td>\n",
       "    </tr>\n",
       "    <tr>\n",
       "      <td>open_acc</td>\n",
       "      <td>0.186320</td>\n",
       "      <td>0.133672</td>\n",
       "      <td>0.229020</td>\n",
       "      <td>1.000000</td>\n",
       "      <td>0.223344</td>\n",
       "      <td>-0.141081</td>\n",
       "      <td>0.700441</td>\n",
       "      <td>-0.003866</td>\n",
       "      <td>0.019954</td>\n",
       "    </tr>\n",
       "    <tr>\n",
       "      <td>revol_bal</td>\n",
       "      <td>0.318613</td>\n",
       "      <td>0.284175</td>\n",
       "      <td>0.111136</td>\n",
       "      <td>0.223344</td>\n",
       "      <td>1.000000</td>\n",
       "      <td>0.234849</td>\n",
       "      <td>0.191138</td>\n",
       "      <td>-0.027679</td>\n",
       "      <td>0.001457</td>\n",
       "    </tr>\n",
       "    <tr>\n",
       "      <td>revol_util</td>\n",
       "      <td>0.108459</td>\n",
       "      <td>0.034614</td>\n",
       "      <td>0.143313</td>\n",
       "      <td>-0.141081</td>\n",
       "      <td>0.234849</td>\n",
       "      <td>1.000000</td>\n",
       "      <td>-0.105596</td>\n",
       "      <td>0.242765</td>\n",
       "      <td>-0.027229</td>\n",
       "    </tr>\n",
       "    <tr>\n",
       "      <td>total_acc</td>\n",
       "      <td>0.208991</td>\n",
       "      <td>0.174806</td>\n",
       "      <td>0.176408</td>\n",
       "      <td>0.700441</td>\n",
       "      <td>0.191138</td>\n",
       "      <td>-0.105596</td>\n",
       "      <td>1.000000</td>\n",
       "      <td>-0.042263</td>\n",
       "      <td>0.027375</td>\n",
       "    </tr>\n",
       "    <tr>\n",
       "      <td>int_rate</td>\n",
       "      <td>0.143815</td>\n",
       "      <td>-0.071268</td>\n",
       "      <td>0.148392</td>\n",
       "      <td>-0.003866</td>\n",
       "      <td>-0.027679</td>\n",
       "      <td>0.242765</td>\n",
       "      <td>-0.042263</td>\n",
       "      <td>1.000000</td>\n",
       "      <td>0.017496</td>\n",
       "    </tr>\n",
       "    <tr>\n",
       "      <td>acc_now_delinq</td>\n",
       "      <td>0.001684</td>\n",
       "      <td>0.013480</td>\n",
       "      <td>0.003235</td>\n",
       "      <td>0.019954</td>\n",
       "      <td>0.001457</td>\n",
       "      <td>-0.027229</td>\n",
       "      <td>0.027375</td>\n",
       "      <td>0.017496</td>\n",
       "      <td>1.000000</td>\n",
       "    </tr>\n",
       "  </tbody>\n",
       "</table>\n",
       "</div>"
      ],
      "text/plain": [
       "                loan_amnt  annual_inc       dti  open_acc  revol_bal  \\\n",
       "loan_amnt        1.000000    0.310232  0.032081  0.186320   0.318613   \n",
       "annual_inc       0.310232    1.000000 -0.141383  0.133672   0.284175   \n",
       "dti              0.032081   -0.141383  1.000000  0.229020   0.111136   \n",
       "open_acc         0.186320    0.133672  0.229020  1.000000   0.223344   \n",
       "revol_bal        0.318613    0.284175  0.111136  0.223344   1.000000   \n",
       "revol_util       0.108459    0.034614  0.143313 -0.141081   0.234849   \n",
       "total_acc        0.208991    0.174806  0.176408  0.700441   0.191138   \n",
       "int_rate         0.143815   -0.071268  0.148392 -0.003866  -0.027679   \n",
       "acc_now_delinq   0.001684    0.013480  0.003235  0.019954   0.001457   \n",
       "\n",
       "                revol_util  total_acc  int_rate  acc_now_delinq  \n",
       "loan_amnt         0.108459   0.208991  0.143815        0.001684  \n",
       "annual_inc        0.034614   0.174806 -0.071268        0.013480  \n",
       "dti               0.143313   0.176408  0.148392        0.003235  \n",
       "open_acc         -0.141081   0.700441 -0.003866        0.019954  \n",
       "revol_bal         0.234849   0.191138 -0.027679        0.001457  \n",
       "revol_util        1.000000  -0.105596  0.242765       -0.027229  \n",
       "total_acc        -0.105596   1.000000 -0.042263        0.027375  \n",
       "int_rate          0.242765  -0.042263  1.000000        0.017496  \n",
       "acc_now_delinq   -0.027229   0.027375  0.017496        1.000000  "
      ]
     },
     "execution_count": 14,
     "metadata": {},
     "output_type": "execute_result"
    }
   ],
   "source": [
    "corr = df2.corr()\n",
    "corr"
   ]
  },
  {
   "cell_type": "code",
   "execution_count": 15,
   "metadata": {},
   "outputs": [
    {
     "name": "stderr",
     "output_type": "stream",
     "text": [
      "/Users/crystal/opt/anaconda3/lib/python3.7/site-packages/pandas/core/ops/__init__.py:1115: FutureWarning: elementwise comparison failed; returning scalar instead, but in the future will perform elementwise comparison\n",
      "  result = method(y)\n"
     ]
    },
    {
     "data": {
      "text/plain": [
       "<matplotlib.axes._subplots.AxesSubplot at 0x1261bb210>"
      ]
     },
     "execution_count": 15,
     "metadata": {},
     "output_type": "execute_result"
    },
    {
     "data": {
      "image/png": "[encoded data removed]",
      "text/plain": [
       "<Figure size 432x288 with 2 Axes>"
      ]
     },
     "metadata": {
      "needs_background": "light"
     },
     "output_type": "display_data"
    }
   ],
   "source": [
    "df = pd.read_csv('loan_2.csv')\n",
    "df = df[df['total_acc'] != 'f']\n",
    "df = df.dropna()\n",
    "corr = round(df.corr(),2)\n",
    "sns.heatmap(corr, annot=True,cmap='coolwarm', vmin=-0.5, vmax=0.5)"
   ]
  },
  {
   "cell_type": "code",
   "execution_count": 16,
   "metadata": {},
   "outputs": [],
   "source": [
    "col_drop = ['emp_length','total_acc']\n",
    "df = df.drop(columns = col_drop)"
   ]
  },
  {
   "cell_type": "code",
   "execution_count": 19,
   "metadata": {},
   "outputs": [
    {
     "ename": "AttributeError",
     "evalue": "'int' object has no attribute 'split'",
     "output_type": "error",
     "traceback": [
      "\u001b[0;31m---------------------------------------------------------------------------\u001b[0m",
      "\u001b[0;31mAttributeError\u001b[0m                            Traceback (most recent call last)",
      "\u001b[0;32m<ipython-input-19-ab79e06859cc>\u001b[0m in \u001b[0;36m<module>\u001b[0;34m\u001b[0m\n\u001b[0;32m----> 1\u001b[0;31m \u001b[0mdf\u001b[0m\u001b[0;34m[\u001b[0m\u001b[0;34m'term'\u001b[0m\u001b[0;34m]\u001b[0m \u001b[0;34m=\u001b[0m \u001b[0;34m[\u001b[0m\u001b[0mint\u001b[0m\u001b[0;34m(\u001b[0m\u001b[0mt\u001b[0m\u001b[0;34m.\u001b[0m\u001b[0msplit\u001b[0m\u001b[0;34m(\u001b[0m\u001b[0;34m' '\u001b[0m\u001b[0;34m)\u001b[0m\u001b[0;34m[\u001b[0m\u001b[0;36m1\u001b[0m\u001b[0;34m]\u001b[0m\u001b[0;34m)\u001b[0m \u001b[0;32mfor\u001b[0m \u001b[0mt\u001b[0m \u001b[0;32min\u001b[0m \u001b[0mdf\u001b[0m\u001b[0;34m[\u001b[0m\u001b[0;34m'term'\u001b[0m\u001b[0;34m]\u001b[0m\u001b[0;34m]\u001b[0m\u001b[0;34m\u001b[0m\u001b[0;34m\u001b[0m\u001b[0m\n\u001b[0m",
      "\u001b[0;32m<ipython-input-19-ab79e06859cc>\u001b[0m in \u001b[0;36m<listcomp>\u001b[0;34m(.0)\u001b[0m\n\u001b[0;32m----> 1\u001b[0;31m \u001b[0mdf\u001b[0m\u001b[0;34m[\u001b[0m\u001b[0;34m'term'\u001b[0m\u001b[0;34m]\u001b[0m \u001b[0;34m=\u001b[0m \u001b[0;34m[\u001b[0m\u001b[0mint\u001b[0m\u001b[0;34m(\u001b[0m\u001b[0mt\u001b[0m\u001b[0;34m.\u001b[0m\u001b[0msplit\u001b[0m\u001b[0;34m(\u001b[0m\u001b[0;34m' '\u001b[0m\u001b[0;34m)\u001b[0m\u001b[0;34m[\u001b[0m\u001b[0;36m1\u001b[0m\u001b[0;34m]\u001b[0m\u001b[0;34m)\u001b[0m \u001b[0;32mfor\u001b[0m \u001b[0mt\u001b[0m \u001b[0;32min\u001b[0m \u001b[0mdf\u001b[0m\u001b[0;34m[\u001b[0m\u001b[0;34m'term'\u001b[0m\u001b[0;34m]\u001b[0m\u001b[0;34m]\u001b[0m\u001b[0;34m\u001b[0m\u001b[0;34m\u001b[0m\u001b[0m\n\u001b[0m",
      "\u001b[0;31mAttributeError\u001b[0m: 'int' object has no attribute 'split'"
     ]
    }
   ],
   "source": [
    "df['term'] = [int(t.split(' ')[1]) for t in df['term']]"
   ]
  },
  {
   "cell_type": "code",
   "execution_count": 20,
   "metadata": {},
   "outputs": [],
   "source": [
    "# status=pd.concat([loan_s, loan_s2], axis=1)\n",
    "# status.to_csv(r'loan_status.csv', index=False)"
   ]
  },
  {
   "cell_type": "code",
   "execution_count": 21,
   "metadata": {},
   "outputs": [],
   "source": [
    "# Data Transformation"
   ]
  },
  {
   "cell_type": "code",
   "execution_count": 22,
   "metadata": {},
   "outputs": [],
   "source": [
    "y_dict = {'Fully Paid': 1, 'Charged Off': 0, 'Default': 0}\n",
    "df['loan_status'] = df['loan_status'].map(y_dict)"
   ]
  },
  {
   "cell_type": "code",
   "execution_count": 23,
   "metadata": {},
   "outputs": [
    {
     "data": {
      "text/plain": [
       "(11920, 2358)"
      ]
     },
     "execution_count": 23,
     "metadata": {},
     "output_type": "execute_result"
    }
   ],
   "source": [
    "dtype = pd.DataFrame(df.dtypes)\n",
    "col = list(dtype[dtype[dtype.columns[0]] == 'object'].index)\n",
    "df_dummy = pd.get_dummies(df, columns = col)\n",
    "len(df_dummy[df_dummy['loan_status'] == 1]), len(df_dummy[df_dummy['loan_status'] == 0])"
   ]
  },
  {
   "cell_type": "code",
   "execution_count": 34,
   "metadata": {},
   "outputs": [
    {
     "data": {
      "text/html": [
       "<div>\n",
       "<style scoped>\n",
       "    .dataframe tbody tr th:only-of-type {\n",
       "        vertical-align: middle;\n",
       "    }\n",
       "\n",
       "    .dataframe tbody tr th {\n",
       "        vertical-align: top;\n",
       "    }\n",
       "\n",
       "    .dataframe thead th {\n",
       "        text-align: right;\n",
       "    }\n",
       "</style>\n",
       "<table border=\"1\" class=\"dataframe\">\n",
       "  <thead>\n",
       "    <tr style=\"text-align: right;\">\n",
       "      <th></th>\n",
       "      <th>loan_status</th>\n",
       "      <th>loan_amnt</th>\n",
       "      <th>term</th>\n",
       "      <th>annual_inc</th>\n",
       "      <th>dti</th>\n",
       "      <th>open_acc</th>\n",
       "      <th>revol_bal</th>\n",
       "      <th>revol_util</th>\n",
       "      <th>int_rate</th>\n",
       "      <th>acc_now_delinq</th>\n",
       "      <th>...</th>\n",
       "      <th>grade_B</th>\n",
       "      <th>grade_C</th>\n",
       "      <th>grade_D</th>\n",
       "      <th>grade_E</th>\n",
       "      <th>grade_F</th>\n",
       "      <th>grade_G</th>\n",
       "      <th>home_ownership_MORTGAGE</th>\n",
       "      <th>home_ownership_OTHER</th>\n",
       "      <th>home_ownership_OWN</th>\n",
       "      <th>home_ownership_RENT</th>\n",
       "    </tr>\n",
       "  </thead>\n",
       "  <tbody>\n",
       "    <tr>\n",
       "      <td>1</td>\n",
       "      <td>0</td>\n",
       "      <td>2500</td>\n",
       "      <td>60</td>\n",
       "      <td>30000.0</td>\n",
       "      <td>1.00</td>\n",
       "      <td>3</td>\n",
       "      <td>1687</td>\n",
       "      <td>9.4</td>\n",
       "      <td>15.27</td>\n",
       "      <td>0</td>\n",
       "      <td>...</td>\n",
       "      <td>0</td>\n",
       "      <td>1</td>\n",
       "      <td>0</td>\n",
       "      <td>0</td>\n",
       "      <td>0</td>\n",
       "      <td>0</td>\n",
       "      <td>0</td>\n",
       "      <td>0</td>\n",
       "      <td>0</td>\n",
       "      <td>1</td>\n",
       "    </tr>\n",
       "    <tr>\n",
       "      <td>6</td>\n",
       "      <td>0</td>\n",
       "      <td>5600</td>\n",
       "      <td>60</td>\n",
       "      <td>40000.0</td>\n",
       "      <td>5.55</td>\n",
       "      <td>11</td>\n",
       "      <td>5210</td>\n",
       "      <td>32.6</td>\n",
       "      <td>21.28</td>\n",
       "      <td>0</td>\n",
       "      <td>...</td>\n",
       "      <td>0</td>\n",
       "      <td>0</td>\n",
       "      <td>0</td>\n",
       "      <td>0</td>\n",
       "      <td>1</td>\n",
       "      <td>0</td>\n",
       "      <td>0</td>\n",
       "      <td>0</td>\n",
       "      <td>1</td>\n",
       "      <td>0</td>\n",
       "    </tr>\n",
       "    <tr>\n",
       "      <td>7</td>\n",
       "      <td>0</td>\n",
       "      <td>5375</td>\n",
       "      <td>60</td>\n",
       "      <td>15000.0</td>\n",
       "      <td>18.08</td>\n",
       "      <td>2</td>\n",
       "      <td>9279</td>\n",
       "      <td>36.5</td>\n",
       "      <td>12.69</td>\n",
       "      <td>0</td>\n",
       "      <td>...</td>\n",
       "      <td>1</td>\n",
       "      <td>0</td>\n",
       "      <td>0</td>\n",
       "      <td>0</td>\n",
       "      <td>0</td>\n",
       "      <td>0</td>\n",
       "      <td>0</td>\n",
       "      <td>0</td>\n",
       "      <td>0</td>\n",
       "      <td>1</td>\n",
       "    </tr>\n",
       "    <tr>\n",
       "      <td>10</td>\n",
       "      <td>0</td>\n",
       "      <td>9000</td>\n",
       "      <td>36</td>\n",
       "      <td>30000.0</td>\n",
       "      <td>10.08</td>\n",
       "      <td>4</td>\n",
       "      <td>10452</td>\n",
       "      <td>91.7</td>\n",
       "      <td>13.49</td>\n",
       "      <td>0</td>\n",
       "      <td>...</td>\n",
       "      <td>0</td>\n",
       "      <td>1</td>\n",
       "      <td>0</td>\n",
       "      <td>0</td>\n",
       "      <td>0</td>\n",
       "      <td>0</td>\n",
       "      <td>0</td>\n",
       "      <td>0</td>\n",
       "      <td>0</td>\n",
       "      <td>1</td>\n",
       "    </tr>\n",
       "    <tr>\n",
       "      <td>12</td>\n",
       "      <td>0</td>\n",
       "      <td>10000</td>\n",
       "      <td>36</td>\n",
       "      <td>100000.0</td>\n",
       "      <td>7.06</td>\n",
       "      <td>14</td>\n",
       "      <td>11997</td>\n",
       "      <td>55.5</td>\n",
       "      <td>10.65</td>\n",
       "      <td>0</td>\n",
       "      <td>...</td>\n",
       "      <td>1</td>\n",
       "      <td>0</td>\n",
       "      <td>0</td>\n",
       "      <td>0</td>\n",
       "      <td>0</td>\n",
       "      <td>0</td>\n",
       "      <td>0</td>\n",
       "      <td>0</td>\n",
       "      <td>0</td>\n",
       "      <td>1</td>\n",
       "    </tr>\n",
       "    <tr>\n",
       "      <td>...</td>\n",
       "      <td>...</td>\n",
       "      <td>...</td>\n",
       "      <td>...</td>\n",
       "      <td>...</td>\n",
       "      <td>...</td>\n",
       "      <td>...</td>\n",
       "      <td>...</td>\n",
       "      <td>...</td>\n",
       "      <td>...</td>\n",
       "      <td>...</td>\n",
       "      <td>...</td>\n",
       "      <td>...</td>\n",
       "      <td>...</td>\n",
       "      <td>...</td>\n",
       "      <td>...</td>\n",
       "      <td>...</td>\n",
       "      <td>...</td>\n",
       "      <td>...</td>\n",
       "      <td>...</td>\n",
       "      <td>...</td>\n",
       "      <td>...</td>\n",
       "    </tr>\n",
       "    <tr>\n",
       "      <td>14772</td>\n",
       "      <td>0</td>\n",
       "      <td>10000</td>\n",
       "      <td>36</td>\n",
       "      <td>52000.0</td>\n",
       "      <td>3.92</td>\n",
       "      <td>7</td>\n",
       "      <td>9301</td>\n",
       "      <td>44.1</td>\n",
       "      <td>13.43</td>\n",
       "      <td>0</td>\n",
       "      <td>...</td>\n",
       "      <td>0</td>\n",
       "      <td>1</td>\n",
       "      <td>0</td>\n",
       "      <td>0</td>\n",
       "      <td>0</td>\n",
       "      <td>0</td>\n",
       "      <td>0</td>\n",
       "      <td>0</td>\n",
       "      <td>0</td>\n",
       "      <td>1</td>\n",
       "    </tr>\n",
       "    <tr>\n",
       "      <td>14774</td>\n",
       "      <td>0</td>\n",
       "      <td>31000</td>\n",
       "      <td>60</td>\n",
       "      <td>75000.0</td>\n",
       "      <td>12.90</td>\n",
       "      <td>10</td>\n",
       "      <td>322</td>\n",
       "      <td>1.7</td>\n",
       "      <td>13.06</td>\n",
       "      <td>0</td>\n",
       "      <td>...</td>\n",
       "      <td>0</td>\n",
       "      <td>1</td>\n",
       "      <td>0</td>\n",
       "      <td>0</td>\n",
       "      <td>0</td>\n",
       "      <td>0</td>\n",
       "      <td>1</td>\n",
       "      <td>0</td>\n",
       "      <td>0</td>\n",
       "      <td>0</td>\n",
       "    </tr>\n",
       "    <tr>\n",
       "      <td>14781</td>\n",
       "      <td>0</td>\n",
       "      <td>20000</td>\n",
       "      <td>60</td>\n",
       "      <td>72000.0</td>\n",
       "      <td>8.57</td>\n",
       "      <td>9</td>\n",
       "      <td>5023</td>\n",
       "      <td>34.4</td>\n",
       "      <td>11.11</td>\n",
       "      <td>0</td>\n",
       "      <td>...</td>\n",
       "      <td>1</td>\n",
       "      <td>0</td>\n",
       "      <td>0</td>\n",
       "      <td>0</td>\n",
       "      <td>0</td>\n",
       "      <td>0</td>\n",
       "      <td>0</td>\n",
       "      <td>0</td>\n",
       "      <td>0</td>\n",
       "      <td>1</td>\n",
       "    </tr>\n",
       "    <tr>\n",
       "      <td>14792</td>\n",
       "      <td>0</td>\n",
       "      <td>5000</td>\n",
       "      <td>36</td>\n",
       "      <td>36000.0</td>\n",
       "      <td>17.93</td>\n",
       "      <td>5</td>\n",
       "      <td>1592</td>\n",
       "      <td>37.9</td>\n",
       "      <td>10.00</td>\n",
       "      <td>0</td>\n",
       "      <td>...</td>\n",
       "      <td>1</td>\n",
       "      <td>0</td>\n",
       "      <td>0</td>\n",
       "      <td>0</td>\n",
       "      <td>0</td>\n",
       "      <td>0</td>\n",
       "      <td>0</td>\n",
       "      <td>0</td>\n",
       "      <td>1</td>\n",
       "      <td>0</td>\n",
       "    </tr>\n",
       "    <tr>\n",
       "      <td>14794</td>\n",
       "      <td>0</td>\n",
       "      <td>6000</td>\n",
       "      <td>36</td>\n",
       "      <td>126000.0</td>\n",
       "      <td>15.29</td>\n",
       "      <td>17</td>\n",
       "      <td>17831</td>\n",
       "      <td>44.6</td>\n",
       "      <td>10.00</td>\n",
       "      <td>0</td>\n",
       "      <td>...</td>\n",
       "      <td>1</td>\n",
       "      <td>0</td>\n",
       "      <td>0</td>\n",
       "      <td>0</td>\n",
       "      <td>0</td>\n",
       "      <td>0</td>\n",
       "      <td>1</td>\n",
       "      <td>0</td>\n",
       "      <td>0</td>\n",
       "      <td>0</td>\n",
       "    </tr>\n",
       "  </tbody>\n",
       "</table>\n",
       "<p>2358 rows × 21 columns</p>\n",
       "</div>"
      ],
      "text/plain": [
       "       loan_status  loan_amnt  term  annual_inc    dti  open_acc  revol_bal  \\\n",
       "1                0       2500    60     30000.0   1.00         3       1687   \n",
       "6                0       5600    60     40000.0   5.55        11       5210   \n",
       "7                0       5375    60     15000.0  18.08         2       9279   \n",
       "10               0       9000    36     30000.0  10.08         4      10452   \n",
       "12               0      10000    36    100000.0   7.06        14      11997   \n",
       "...            ...        ...   ...         ...    ...       ...        ...   \n",
       "14772            0      10000    36     52000.0   3.92         7       9301   \n",
       "14774            0      31000    60     75000.0  12.90        10        322   \n",
       "14781            0      20000    60     72000.0   8.57         9       5023   \n",
       "14792            0       5000    36     36000.0  17.93         5       1592   \n",
       "14794            0       6000    36    126000.0  15.29        17      17831   \n",
       "\n",
       "       revol_util  int_rate  acc_now_delinq  ...  grade_B  grade_C  grade_D  \\\n",
       "1             9.4     15.27               0  ...        0        1        0   \n",
       "6            32.6     21.28               0  ...        0        0        0   \n",
       "7            36.5     12.69               0  ...        1        0        0   \n",
       "10           91.7     13.49               0  ...        0        1        0   \n",
       "12           55.5     10.65               0  ...        1        0        0   \n",
       "...           ...       ...             ...  ...      ...      ...      ...   \n",
       "14772        44.1     13.43               0  ...        0        1        0   \n",
       "14774         1.7     13.06               0  ...        0        1        0   \n",
       "14781        34.4     11.11               0  ...        1        0        0   \n",
       "14792        37.9     10.00               0  ...        1        0        0   \n",
       "14794        44.6     10.00               0  ...        1        0        0   \n",
       "\n",
       "       grade_E  grade_F  grade_G  home_ownership_MORTGAGE  \\\n",
       "1            0        0        0                        0   \n",
       "6            0        1        0                        0   \n",
       "7            0        0        0                        0   \n",
       "10           0        0        0                        0   \n",
       "12           0        0        0                        0   \n",
       "...        ...      ...      ...                      ...   \n",
       "14772        0        0        0                        0   \n",
       "14774        0        0        0                        1   \n",
       "14781        0        0        0                        0   \n",
       "14792        0        0        0                        0   \n",
       "14794        0        0        0                        1   \n",
       "\n",
       "       home_ownership_OTHER  home_ownership_OWN  home_ownership_RENT  \n",
       "1                         0                   0                    1  \n",
       "6                         0                   1                    0  \n",
       "7                         0                   0                    1  \n",
       "10                        0                   0                    1  \n",
       "12                        0                   0                    1  \n",
       "...                     ...                 ...                  ...  \n",
       "14772                     0                   0                    1  \n",
       "14774                     0                   0                    0  \n",
       "14781                     0                   0                    1  \n",
       "14792                     0                   1                    0  \n",
       "14794                     0                   0                    0  \n",
       "\n",
       "[2358 rows x 21 columns]"
      ]
     },
     "execution_count": 34,
     "metadata": {},
     "output_type": "execute_result"
    }
   ],
   "source": [
    "df_minority"
   ]
  },
  {
   "cell_type": "code",
   "execution_count": 36,
   "metadata": {},
   "outputs": [
    {
     "name": "stdout",
     "output_type": "stream",
     "text": [
      "<class 'pandas.core.frame.DataFrame'>\n",
      "Int64Index: 21352 entries, 0 to 6925\n",
      "Data columns (total 21 columns):\n",
      "loan_status                21352 non-null int64\n",
      "loan_amnt                  21352 non-null int64\n",
      "term                       21352 non-null int64\n",
      "annual_inc                 21352 non-null float64\n",
      "dti                        21352 non-null float64\n",
      "open_acc                   21352 non-null int64\n",
      "revol_bal                  21352 non-null int64\n",
      "revol_util                 21352 non-null float64\n",
      "int_rate                   21352 non-null float64\n",
      "acc_now_delinq             21352 non-null int64\n",
      "grade_A                    21352 non-null uint8\n",
      "grade_B                    21352 non-null uint8\n",
      "grade_C                    21352 non-null uint8\n",
      "grade_D                    21352 non-null uint8\n",
      "grade_E                    21352 non-null uint8\n",
      "grade_F                    21352 non-null uint8\n",
      "grade_G                    21352 non-null uint8\n",
      "home_ownership_MORTGAGE    21352 non-null uint8\n",
      "home_ownership_OTHER       21352 non-null uint8\n",
      "home_ownership_OWN         21352 non-null uint8\n",
      "home_ownership_RENT        21352 non-null uint8\n",
      "dtypes: float64(4), int64(6), uint8(11)\n",
      "memory usage: 2.0 MB\n"
     ]
    }
   ],
   "source": [
    "df_minority = df_dummy[df_dummy['loan_status'] == 0]\n",
    "df_majority = df_dummy[df_dummy['loan_status'] == 1]\n",
    "df_minority_unsampled = resample(df_minority, replace = True, n_samples = len(df_minority) * 4, random_state = 123)\n",
    "df_unsampled = pd.concat([df_majority, df_minority_unsampled])\n",
    "df_unsampled.info(verbose=True, null_counts=True)"
   ]
  },
  {
   "cell_type": "code",
   "execution_count": 37,
   "metadata": {},
   "outputs": [],
   "source": [
    "features = df_unsampled.columns[1:]\n",
    "x = df_unsampled[features]\n",
    "y = df_unsampled['loan_status']\n",
    "x_train, x_test, y_train, y_test = train_test_split(x, y, random_state = 1, train_size = 0.7)"
   ]
  },
  {
   "cell_type": "code",
   "execution_count": 26,
   "metadata": {},
   "outputs": [
    {
     "data": {
      "text/plain": [
       "((14946, 20), (6406, 20), (14946,), (6406,))"
      ]
     },
     "execution_count": 26,
     "metadata": {},
     "output_type": "execute_result"
    }
   ],
   "source": [
    "x_train.shape, x_test.shape, y_train.shape, y_test.shape"
   ]
  },
  {
   "cell_type": "code",
   "execution_count": 27,
   "metadata": {},
   "outputs": [
    {
     "name": "stdout",
     "output_type": "stream",
     "text": [
      "0.9249297470895222\n",
      "ROC_AUC Score (Train): 0.980928\n"
     ]
    }
   ],
   "source": [
    "rf = RandomForestClassifier(n_estimators= 100, oob_score=True, random_state=10)\n",
    "rf.fit(x_train,y_train)\n",
    "print(rf.oob_score_)\n",
    "y_predrf = rf.predict_proba(x_test)[:,1]\n",
    "print(\"ROC_AUC Score (Train): %f\" % metrics.roc_auc_score(y_test, y_predrf))"
   ]
  },
  {
   "cell_type": "code",
   "execution_count": 28,
   "metadata": {},
   "outputs": [
    {
     "data": {
      "image/png": "[encoded data removed]",
      "text/plain": [
       "<Figure size 432x288 with 1 Axes>"
      ]
     },
     "metadata": {
      "needs_background": "light"
     },
     "output_type": "display_data"
    },
    {
     "data": {
      "text/plain": [
       "0.9277240087418046"
      ]
     },
     "execution_count": 28,
     "metadata": {},
     "output_type": "execute_result"
    }
   ],
   "source": [
    "cm = ConfusionMatrix(rf, classes=[0,1])\n",
    "cm.fit(x_train, y_train)\n",
    "cm.score(x_test, y_test)\n",
    "cm.poof()\n",
    "rf.score(x_test, y_test)"
   ]
  },
  {
   "cell_type": "code",
   "execution_count": 29,
   "metadata": {},
   "outputs": [
    {
     "name": "stdout",
     "output_type": "stream",
     "text": [
      "Classification report for classifier RandomForestClassifier(bootstrap=True, class_weight=None, criterion='gini',\n",
      "                       max_depth=None, max_features='auto', max_leaf_nodes=None,\n",
      "                       min_impurity_decrease=0.0, min_impurity_split=None,\n",
      "                       min_samples_leaf=1, min_samples_split=2,\n",
      "                       min_weight_fraction_leaf=0.0, n_estimators=100,\n",
      "                       n_jobs=None, oob_score=True, random_state=10, verbose=0,\n",
      "                       warm_start=False):\n",
      "              precision    recall  f1-score   support\n",
      "\n",
      "           0       0.89      0.95      0.92      2787\n",
      "           1       0.96      0.91      0.93      3619\n",
      "\n",
      "    accuracy                           0.93      6406\n",
      "   macro avg       0.93      0.93      0.93      6406\n",
      "weighted avg       0.93      0.93      0.93      6406\n",
      "\n",
      "\n"
     ]
    }
   ],
   "source": [
    "y_predrf = rf.predict(x_test)\n",
    "print(\"Classification report for classifier %s:\\n%s\\n\"\n",
    "      % (rf, metrics.classification_report(y_test, y_predrf)))"
   ]
  },
  {
   "cell_type": "code",
   "execution_count": 30,
   "metadata": {},
   "outputs": [
    {
     "data": {
      "image/png": "[encoded data removed]",
      "text/plain": [
       "<Figure size 432x288 with 1 Axes>"
      ]
     },
     "metadata": {
      "needs_background": "light"
     },
     "output_type": "display_data"
    }
   ],
   "source": [
    "classes=[0,1]\n",
    "visualizer = ROCAUC(rf, classes=classes)\n",
    "\n",
    "visualizer.fit(x_train, y_train)  \n",
    "visualizer.score(x_test, y_test)  \n",
    "g = visualizer.poof()"
   ]
  },
  {
   "cell_type": "code",
   "execution_count": 31,
   "metadata": {},
   "outputs": [
    {
     "name": "stderr",
     "output_type": "stream",
     "text": [
      "/Users/crystal/opt/anaconda3/lib/python3.7/site-packages/sklearn/linear_model/logistic.py:432: FutureWarning: Default solver will be changed to 'lbfgs' in 0.22. Specify a solver to silence this warning.\n",
      "  FutureWarning)\n"
     ]
    },
    {
     "data": {
      "text/plain": [
       "array([[1710, 1077],\n",
       "       [1188, 2431]])"
      ]
     },
     "execution_count": 31,
     "metadata": {},
     "output_type": "execute_result"
    }
   ],
   "source": [
    "from sklearn.linear_model import LogisticRegression\n",
    "# instantiate the model (using the default parameters)\n",
    "logreg = LogisticRegression()\n",
    "# fit the model with data\n",
    "logreg.fit(x_train,y_train)\n",
    "test_pred = logreg.predict(x_test)\n",
    "train_pred = logreg.predict(x_train)\n",
    "from sklearn import metrics\n",
    "cnf_matrix = metrics.confusion_matrix(y_test, test_pred)\n",
    "cnf_matrix"
   ]
  },
  {
   "cell_type": "code",
   "execution_count": 32,
   "metadata": {},
   "outputs": [
    {
     "ename": "NameError",
     "evalue": "name 'roc_auc_score' is not defined",
     "output_type": "error",
     "traceback": [
      "\u001b[0;31m---------------------------------------------------------------------------\u001b[0m",
      "\u001b[0;31mNameError\u001b[0m                                 Traceback (most recent call last)",
      "\u001b[0;32m<ipython-input-32-e3fe392c0601>\u001b[0m in \u001b[0;36m<module>\u001b[0;34m\u001b[0m\n\u001b[0;32m----> 1\u001b[0;31m \u001b[0mprint\u001b[0m \u001b[0;34m(\u001b[0m\u001b[0;34m'LF result: %.3f/%.3f'\u001b[0m \u001b[0;34m%\u001b[0m \u001b[0;34m(\u001b[0m\u001b[0mroc_auc_score\u001b[0m\u001b[0;34m(\u001b[0m\u001b[0my_train\u001b[0m\u001b[0;34m,\u001b[0m \u001b[0mtrain_pred\u001b[0m\u001b[0;34m)\u001b[0m\u001b[0;34m,\u001b[0m \u001b[0mroc_auc_score\u001b[0m\u001b[0;34m(\u001b[0m\u001b[0my_test\u001b[0m\u001b[0;34m,\u001b[0m \u001b[0mtest_pred\u001b[0m\u001b[0;34m)\u001b[0m\u001b[0;34m)\u001b[0m\u001b[0;34m)\u001b[0m\u001b[0;34m\u001b[0m\u001b[0;34m\u001b[0m\u001b[0m\n\u001b[0m",
      "\u001b[0;31mNameError\u001b[0m: name 'roc_auc_score' is not defined"
     ]
    }
   ],
   "source": [
    "print ('LF result: %.3f/%.3f' % (roc_auc_score(y_train, train_pred), roc_auc_score(y_test, test_pred)))"
   ]
  },
  {
   "cell_type": "code",
   "execution_count": 33,
   "metadata": {},
   "outputs": [
    {
     "data": {
      "image/png": "[encoded data removed]",
      "text/plain": [
       "<Figure size 432x288 with 1 Axes>"
      ]
     },
     "metadata": {
      "needs_background": "light"
     },
     "output_type": "display_data"
    }
   ],
   "source": [
    "# calculate the fpr and tpr for all thresholds of the classification\n",
    "test_pred = logreg.predict(x_test)\n",
    "fpr, tpr, threshold = metrics.roc_curve(y_test, test_pred)\n",
    "roc_auc = metrics.auc(fpr, tpr)\n",
    "\n",
    "# method I: plt\n",
    "\n",
    "plt.title('ROC for Logistic Regreesion')\n",
    "plt.plot(fpr, tpr, 'b', label = 'AUC = %0.3f' % roc_auc)\n",
    "plt.legend(loc = 'lower right')\n",
    "plt.plot([0, 1], [0, 1],'r--')\n",
    "plt.xlim([0, 1])\n",
    "plt.ylim([0, 1])\n",
    "plt.ylabel('True Positive Rate')\n",
    "plt.xlabel('False Positive Rate')\n",
    "plt.show()"
   ]
  }
 ],
 "metadata": {
  "kernelspec": {
   "display_name": "Python 3",
   "language": "python",
   "name": "python3"
  },
  "language_info": {
   "codemirror_mode": {
    "name": "ipython",
    "version": 3
   },
   "file_extension": ".py",
   "mimetype": "text/x-python",
   "name": "python",
   "nbconvert_exporter": "python",
   "pygments_lexer": "ipython3",
   "version": "3.7.4"
  }
 },
 "nbformat": 4,
 "nbformat_minor": 2
}
